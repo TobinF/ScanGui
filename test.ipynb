{
 "cells": [
  {
   "cell_type": "code",
   "execution_count": 6,
   "metadata": {},
   "outputs": [
    {
     "name": "stdout",
     "output_type": "stream",
     "text": [
      "101','102','103','104','105','106','107','108','109','110','111','112','113','114','115','116','117','118\n",
      "','119','120','121\n"
     ]
    }
   ],
   "source": [
    "from turtle import st\n",
    "import numpy as np\n",
    "\n",
    "A = np.arange(101,122,1,dtype=int)\n",
    "print(str(A).split('[')[1].split(']')[0].replace(' ','\\',\\''))\n",
    "# 将A列表中的元素转化为字符串类型\n",
    "['101','102','103','104','105','106','107','108','109','110','111','112','113','114','115','116','117','118','119','120','121',]\n"
   ]
  },
  {
   "cell_type": "code",
   "execution_count": 2,
   "metadata": {},
   "outputs": [
    {
     "name": "stdout",
     "output_type": "stream",
     "text": [
      "{'101': {'unit': 'V', 'result': ['0.000', '0.000', '0.000'], 'max': None}, '102': {'unit': 'V', 'result': ['0.000', '0.000', '0.000'], 'max': None}, '103': {'unit': 'V', 'result': ['0.000', '0.000', '0.000'], 'max': None}}\n"
     ]
    }
   ],
   "source": [
    "# 设计一个数据结构 \n",
    "channelList = ['101','102','103']\n",
    "channelListUnits = ['V','V','V']\n",
    "channelListResults = [['0.000','0.000','0.000'],['0.000','0.000','0.000'],['0.000','0.000','0.000']]\n",
    "\n",
    "# 拼接到同一个字典\n",
    "channelListDict = {\n",
    "    channelList[i]:{\n",
    "        'unit':channelListUnits[i],\n",
    "        'result':channelListResults[i],\n",
    "        'max':None,\n",
    "    } for i in range(len(channelList))\n",
    "}\n",
    "\n",
    "print(channelListDict)"
   ]
  },
  {
   "cell_type": "code",
   "execution_count": 5,
   "metadata": {},
   "outputs": [
    {
     "name": "stdout",
     "output_type": "stream",
     "text": [
      "channelName {'data': [], 'unit': '', 'type': '', 'maxValue': '', 'minValue': ''}\n",
      "101 {'data': ['1.000', '2.000', '3.000'], 'unit': 'C', 'type': ['rtd-4w', 'rtd-4w', 'rtd-4w'], 'maxValue': '3.000', 'minValue': '1.000'}\n",
      "102 {'data': ['4.000', '5.000', '6.000'], 'unit': 'C', 'type': ['rtd-4w', 'rtd-4w', 'rtd-4w'], 'maxValue': '6.000', 'minValue': '4.000'}\n",
      "103 {'data': ['7.000', '8.000', '9.000'], 'unit': 'C', 'type': ['rtd-4w', 'rtd-4w', 'rtd-4w'], 'maxValue': '9.000', 'minValue': '7.000'}\n"
     ]
    }
   ],
   "source": [
    "channelListDict = {\n",
    "    'channelName':{\n",
    "        'data':[],\n",
    "        'unit':'',\n",
    "        'type':'',\n",
    "        'maxValue':'',\n",
    "        'minValue':'',\n",
    "    }\n",
    "}\n",
    "\n",
    "channelList = ['101','102','103']\n",
    "channelListUnits = ['C','C','C']\n",
    "channelListResults = [\n",
    "                      ['1.000','2.000','3.000'],\n",
    "                      ['4.000','5.000','6.000'],\n",
    "                      ['7.000','8.000','9.000']\n",
    "                      ]\n",
    "\n",
    "# 将数据写入字典\n",
    "for i in range(len(channelList)):\n",
    "    channelListDict[channelList[i]] = {\n",
    "        'data':channelListResults[i],\n",
    "        'unit':channelListUnits[i],\n",
    "        'type':['rtd-4w','rtd-4w','rtd-4w'],\n",
    "        'maxValue':max(channelListResults[i]),\n",
    "        'minValue':min(channelListResults[i]),\n",
    "    }\n",
    "\n",
    "for k,v in channelListDict.items():\n",
    "    print(k,v)"
   ]
  },
  {
   "cell_type": "code",
   "execution_count": 1,
   "metadata": {},
   "outputs": [
    {
     "name": "stdout",
     "output_type": "stream",
     "text": [
      "([1, 2, 3],)\n",
      "{1: ['1.000', '2.000', '3.000', '10', [1, 2, 3]], 2: ['4.000', '5.000', '6.000', '20'], 3: ['7.000', '8.000', '9.000', '30']}\n"
     ]
    }
   ],
   "source": [
    "# m = 2\n",
    "# n = 3\n",
    "\n",
    "# # 生成一个m*n的列表\n",
    "# data = [[]*n]*m\n",
    "# print(data)\n",
    "import numpy as np\n",
    "lst = []\n",
    "dic = { 1: \n",
    "        ['1.000','2.000','3.000','10'],\n",
    "        2:\n",
    "        ['4.000','5.000','6.000','20'],\n",
    "        3:\n",
    "        ['7.000','8.000','9.000','30']\n",
    "    }\n",
    "keylst = list(dic.keys())\n",
    "\n",
    "newData = np.array([1,2,3]).tolist(),\n",
    "# newData =np.array(newData).T.tolist()\n",
    "print(newData)\n",
    "# 将newData中的元素按行添加到data中\n",
    "for i in range(len(newData)):\n",
    "    dic[keylst[i]].append(newData[i])\n",
    "print(dic)\n"
   ]
  },
  {
   "cell_type": "code",
   "execution_count": 12,
   "metadata": {},
   "outputs": [
    {
     "name": "stdout",
     "output_type": "stream",
     "text": [
      "308\n",
      "307\n",
      "306\n",
      "301:305\n",
      "[301, 302, 303, 304, 305, 306, 307, 308]\n"
     ]
    }
   ],
   "source": [
    "lst = \"301:305,306,307,308\"\n",
    "parts = lst.split(',')\n",
    "\n",
    "for part in reversed(parts):\n",
    "    print(part)\n",
    "    if ':' in part:\n",
    "        start, end = part.split(':')\n",
    "        parts.remove(part)\n",
    "        new_part = [int(start) + i for i in range(int(end) - int(start) + 1)] \n",
    "        parts += [x for x in new_part]\n",
    "    else:\n",
    "        parts.append(int(part))\n",
    "        parts.remove(part)\n",
    "parts.sort()\n",
    "print(parts)"
   ]
  },
  {
   "cell_type": "code",
   "execution_count": 8,
   "metadata": {},
   "outputs": [
    {
     "name": "stdout",
     "output_type": "stream",
     "text": [
      "[306, 301, 302, 303, 304, 305, 307, 308]\n",
      "['C', 'C', 'C', 'C', 'C', 'C', 'C', 'C']\n"
     ]
    }
   ],
   "source": [
    "def transString(channelList,unitList):\n",
    "    # 定义一个空列表，用于存放最终结果\n",
    "    channelResult = []\n",
    "    unitResult = []\n",
    "    # 用 , 或 : 分割字符串\n",
    "    channelParts = channelList.split(\",\")\n",
    "    # unitParts = unitList.split(\",\")\n",
    "    # 如果存在空字符串，则删除\n",
    "    if \"\" in channelParts:\n",
    "        channelParts.remove(\"\")\n",
    "        # unitParts.remove(\"\")\n",
    "    partsLength = len(channelParts)\n",
    "    # 遍历分割后的列表\n",
    "    for i in range(partsLength):\n",
    "        # 如果包含 : ，则表示是连续的数字\n",
    "        if \":\" in channelParts[i]:\n",
    "            # 用 : 分割数字，并转换为整数\n",
    "            start, end = channelParts[i].split(\":\")\n",
    "            # 用 range() 函数生成连续的数字，并添加到结果列表中\n",
    "            channelResult.extend(range(int(start), int(end) + 1))\n",
    "            unitResult.extend(unitList[i]*len(range(int(start), int(end) + 1)))\n",
    "        else:\n",
    "            # 否则，直接把数字转换为整数，并添加到结果列表中\n",
    "            channelResult.append(int(channelParts[i]))\n",
    "            unitResult.append(unitList[i])\n",
    "    # 对结果列表进行排序\n",
    "    # result.sort()\n",
    "    # 打印结果列表\n",
    "    # return str(channelResult).replace('[','').replace(']','')\n",
    "    return channelResult, unitResult\n",
    "\n",
    "\n",
    "# channelList = \"306,301:305,307,308\"\n",
    "# unitList = ['C','F','mA','V']\n",
    "channelList = \"306,301:305,307,308,306\"\n",
    "unitList = ['C']*len(channelList.split(','))\n",
    "a, b = transString(channelList, unitList)\n",
    "print(a)\n",
    "print(b)"
   ]
  },
  {
   "cell_type": "code",
   "execution_count": 13,
   "metadata": {},
   "outputs": [
    {
     "name": "stdout",
     "output_type": "stream",
     "text": [
      "[305]\n",
      "['K']\n"
     ]
    }
   ],
   "source": [
    "from app.components.agilent34970a import Agilent34970A\n",
    "\n",
    "channelList = \"306,301:305,307,308\"\n",
    "unitList = ['C']*len(channelList.split(','))\n",
    "a, b = Agilent34970A.transString(channelList, unitList)\n",
    "\n",
    "channelList = '305'\n",
    "unitList = ['K']\n",
    "a, b = Agilent34970A.transString(channelList, unitList)\n",
    "\n",
    "print(a)\n",
    "print(b)"
   ]
  },
  {
   "cell_type": "code",
   "execution_count": null,
   "metadata": {},
   "outputs": [],
   "source": [
    "channelList = \"306,301:305,307,308\"\n",
    "unit = 'C'\n"
   ]
  },
  {
   "cell_type": "code",
   "execution_count": 4,
   "metadata": {},
   "outputs": [
    {
     "name": "stdout",
     "output_type": "stream",
     "text": [
      "[]\n",
      "[1]\n"
     ]
    }
   ],
   "source": [
    "\n",
    "x = []\n",
    "print(x)\n",
    "x.append(1)\n",
    "print(x)"
   ]
  },
  {
   "cell_type": "code",
   "execution_count": 5,
   "metadata": {},
   "outputs": [
    {
     "name": "stdout",
     "output_type": "stream",
     "text": [
      "306,301,302,303,304,305,307,308\n",
      "<class 'str'>\n"
     ]
    }
   ],
   "source": [
    "l = [306, 301, 302, 303, 304, 305, 307, 308]\n",
    "sep = ','\n",
    "st = sep.join(str(i) for i in l)\n",
    "print(st)\n",
    "print(type(st))"
   ]
  },
  {
   "cell_type": "code",
   "execution_count": 1,
   "metadata": {},
   "outputs": [
    {
     "name": "stdout",
     "output_type": "stream",
     "text": [
      "('308,305,306,307,302,101,102,103,104', '308,307,307,307,302,101,104,104,104')\n"
     ]
    }
   ],
   "source": [
    "# 定义一个函数，用来将形如\"308,305:307,302\"的字符串转换为列表和单位\n",
    "def parse_string(s):\n",
    "    # 初始化一个空列表和空单位\n",
    "    result = []\n",
    "    unit = []\n",
    "    # 按逗号分割字符串\n",
    "    segments = s.split(\",\")\n",
    "    # 遍历每个分割后的字符串\n",
    "    for segment in segments:\n",
    "        # 如果有冒号，表示是一个范围\n",
    "        if \":\" in segment:\n",
    "            # 按冒号分割范围，并转换为整数\n",
    "            start, end = map(int, segment.split(\":\"))\n",
    "            # 将范围内的所有整数添加到结果列表中\n",
    "            result.extend(range(start, end + 1))\n",
    "            # 将范围内的所有单位添加到单位列表中\n",
    "            unit.extend([end] * (end - start + 1))\n",
    "        else:\n",
    "            # 否则，表示是一个单个值，直接转换为整数并添加到结果列表中\n",
    "            result.append(int(segment))\n",
    "            # 将单个值的单位添加到单位列表中\n",
    "            unit.append(int(segment))\n",
    "    # 返回结果列表和单位列表\n",
    "    return result, unit\n",
    "\n",
    "# 定义一个函数，用来将新的通道和单位拼接到原通道字符串中\n",
    "def append_string(old_s, new_s, new_u):\n",
    "    # 如果原通道字符串为空，则直接返回新通道和单位\n",
    "    if not old_s:\n",
    "        return new_s, new_u\n",
    "    # 否则，先将原通道字符串和新通道字符串转换为列表和单位\n",
    "    old_result, old_unit = parse_string(old_s)\n",
    "    new_result, new_unit = parse_string(new_s)\n",
    "    # 遍历新通道列表和单位列表\n",
    "    for i in range(len(new_result)):\n",
    "        # 如果新通道已在原通道列表中，则不拼接，但是要更新单位\n",
    "        if new_result[i] in old_result:\n",
    "            index = old_result.index(new_result[i])\n",
    "            old_unit[index] = new_unit[i]\n",
    "        else:\n",
    "            # 否则，将新通道和单位拼接到原通道列表和单位列表中\n",
    "            old_result.append(new_result[i])\n",
    "            old_unit.append(new_unit[i])\n",
    "    # 将更新后的原通道列表和单位列表转换为字符串，并返回\n",
    "    return \",\".join(map(str, old_result)), \",\".join(map(str, old_unit))\n",
    "\n",
    "# 测试一下函数的效果\n",
    "old_s = \"308,305:307,302\"\n",
    "new_s = \"101,102:104\"\n",
    "new_u = \"V,A\"\n",
    "print(append_string(old_s, new_s, new_u))\n",
    "# 输出：('308,305,306,307,302,101,102,103,104', 'K,C,C,C,F,V,A,A,A')\n"
   ]
  },
  {
   "cell_type": "markdown",
   "metadata": {},
   "source": [
    "输入字符串形如: \"308,305:307,302\"，表示一个列表[308,305,306,307,302]\n",
    "输入与字符串对应的单位，如: \"K,  C, F\"，表示与上述列表对应的单位列表[K,  C,  C,  C,  F]\n",
    "\n",
    "添加新的通道和单位时，拼接到原通道字符串，如添加101,102:104，对应单位为: V, A\n",
    "拼接为: \"308,305,306,307,302,101,102,103,104\"\n",
    "同时拼接单位，\"K,  C,  C,  C,  F,  V, A, A, A\"\n",
    "如果原通道字符串为空或者新通道未出现在原通道列表中，则直接拼接\n",
    "如果新通道已在原通道字符串中，则不拼接，但是要更新单位\n",
    "如原通道字符串为: 308,305:307,302\n",
    "新通道为: 306，单位为V，则不拼接通道，但更新306通道单位为: K,  C,  V,  C,  F\n",
    "新通道为：310，单位为A，则执行斌姐通道拼接，拼接后为: 308,305，306，307,302,310，单位为: K,  C,  C,  C,  F,  A\n"
   ]
  },
  {
   "cell_type": "code",
   "execution_count": 3,
   "metadata": {},
   "outputs": [
    {
     "ename": "TypeError",
     "evalue": "parse_string() missing 1 required positional argument: 'u'",
     "output_type": "error",
     "traceback": [
      "\u001b[1;31m---------------------------------------------------------------------------\u001b[0m",
      "\u001b[1;31mTypeError\u001b[0m                                 Traceback (most recent call last)",
      "Cell \u001b[1;32mIn[3], line 50\u001b[0m\n\u001b[0;32m     48\u001b[0m old_s \u001b[39m=\u001b[39m \u001b[39m\"\u001b[39m\u001b[39m308,305:307,302\u001b[39m\u001b[39m\"\u001b[39m\n\u001b[0;32m     49\u001b[0m old_u \u001b[39m=\u001b[39m \u001b[39m\"\u001b[39m\u001b[39mK,C,F\u001b[39m\u001b[39m\"\u001b[39m\n\u001b[1;32m---> 50\u001b[0m \u001b[39mprint\u001b[39m(parse_string(old_s))\n\u001b[0;32m     51\u001b[0m new_s \u001b[39m=\u001b[39m \u001b[39m\"\u001b[39m\u001b[39m306\u001b[39m\u001b[39m\"\u001b[39m\n\u001b[0;32m     52\u001b[0m new_u \u001b[39m=\u001b[39m \u001b[39m\"\u001b[39m\u001b[39mV\u001b[39m\u001b[39m\"\u001b[39m\n",
      "\u001b[1;31mTypeError\u001b[0m: parse_string() missing 1 required positional argument: 'u'"
     ]
    }
   ],
   "source": [
    "# 定义一个函数，用来将形如\"308,305:307,302\"的字符串转换为列表和单位\n",
    "def parse_string(s, u):\n",
    "    # 初始化一个空列表和空单位\n",
    "    result = []\n",
    "    unit = []\n",
    "    # 按逗号分割字符串\n",
    "    segments = s.split(\",\")\n",
    "    # 遍历每个分割后的字符串\n",
    "    for segment in segments:\n",
    "        # 如果有冒号，表示是一个范围\n",
    "        if \":\" in segment:\n",
    "            # 按冒号分割范围，并转换为整数\n",
    "            start, end = map(int, segment.split(\":\"))\n",
    "            # 将范围内的所有整数添加到结果列表中\n",
    "            result.extend(range(start, end + 1))\n",
    "            # 将范围内的所有单位添加到单位列表中\n",
    "            unit.extend([end] * (end - start + 1))\n",
    "        else:\n",
    "            # 否则，表示是一个单个值，直接转换为整数并添加到结果列表中\n",
    "            result.append(int(segment))\n",
    "            # 将单个值的单位添加到单位列表中\n",
    "            unit.append(int(segment))\n",
    "    # 返回结果列表和单位列表\n",
    "    return result, unit\n",
    "\n",
    "# 定义一个函数，用来将新的通道和单位拼接到原通道字符串中\n",
    "def append_string(old_s, old_u, new_s, new_u):\n",
    "    # 如果原通道字符串为空，则直接返回新通道和单位\n",
    "    if not old_s:\n",
    "        return new_s, new_u\n",
    "    # 否则，先将原通道字符串和新通道字符串转换为列表和单位\n",
    "    old_result, old_unit = parse_string(old_s)\n",
    "    new_result, new_unit = parse_string(new_s)\n",
    "    # 遍历新通道列表和单位列表\n",
    "    for i in range(len(new_result)):\n",
    "        # 如果新通道已在原通道列表中，则不拼接，但是要更新单位\n",
    "        if new_result[i] in old_result:\n",
    "            index = old_result.index(new_result[i])\n",
    "            old_unit[index] = new_unit[i]\n",
    "        else:\n",
    "            # 否则，将新通道和单位拼接到原通道列表和单位列表中\n",
    "            old_result.append(new_result[i])\n",
    "            old_unit.append(new_unit[i])\n",
    "    # 将更新后的原通道列表和单位列表转换为字符串，并返回\n",
    "    return \",\".join(map(str, old_result)), \",\".join(map(str, old_unit))\n",
    "\n",
    "# 测试一下函数的效果\n",
    "old_s = \"308,305:307,302\"\n",
    "old_u = \"K,C,F\"\n",
    "print(parse_string(old_s))\n",
    "new_s = \"306\"\n",
    "new_u = \"V\"\n",
    "print(append_string(old_s, old_u, new_s, new_u))\n",
    "# 输出：('308,305,306,307,302', 'K,C,V,C,F')\n"
   ]
  },
  {
   "cell_type": "code",
   "execution_count": null,
   "metadata": {},
   "outputs": [],
   "source": [
    "def transString(self):\n",
    "    channelListStr = self.channelListStr\n",
    "    unitList = self.unitsList\n",
    "    typeList = self.physicalType\n",
    "    # 定义一个空列表，用于存放最终结果\n",
    "    channelResult = []\n",
    "    unitResult = []\n",
    "    typeResult = []\n",
    "    # 用 , 或 : 分割字符串,\n",
    "    channelParts = channelListStr.split(\",\")\n",
    "    # 如果存在空字符串，则删除\n",
    "    if \"\" in channelParts:\n",
    "        channelParts.remove(\"\")\n",
    "        # unitParts.remove(\"\")\n",
    "    partsLength = len(channelParts)\n",
    "    # 遍历分割后的列表\n",
    "    for i in range(partsLength):\n",
    "        # 如果包含 : ，则表示是连续的数字\n",
    "        if \":\" in channelParts[i]:\n",
    "            # 用 : 分割数字，并转换为整数\n",
    "            start, end = channelParts[i].split(\":\")\n",
    "            # 用 range() 函数生成连续的数字，并添加到结果列表中\n",
    "            channelResult.extend(range(int(start), int(end) + 1))\n",
    "            unitResult.extend([unitList[i]]*len(range(int(start), int(end) + 1)))\n",
    "            typeResult.extend([typeList[i]]*len(range(int(start), int(end) + 1)))\n",
    "        else:\n",
    "            # 否则，添加到结果列表中\n",
    "            channelResult.append(int(channelParts[i]))\n",
    "            unitResult.append(unitList[i])\n",
    "            typeResult.append(typeList[i])\n",
    "    # 对结果列表进行排序\n",
    "    # result.sort()\n",
    "    # 打印结果列表\n",
    "    # return str(channelResult).replace('[','').replace(']','')\n",
    "    # return channelResult, unitResult, typeResult\n",
    "    # self.channelList\n",
    "    for i in range(len(channelResult)):\n",
    "        self.channelListDict[channelResult[i]] = {\n",
    "            'data':[],\n",
    "            'unit':unitResult[i],\n",
    "            'time':[],\n",
    "            'type':typeResult[i],\n",
    "            'maxValue':0,\n",
    "            'minValue':0,\n",
    "        }\n",
    "    self.channelListDict = dict(sorted(self.channelListDict.items(), key=lambda x: x[0], reverse=False))\n",
    "    sep = ','\n",
    "    self.channelListStr = sep.join(str(k) for k in self.channelListDict.keys())\n",
    "    self.channelList = list(self.channelListDict.keys())\n",
    "\n"
   ]
  },
  {
   "cell_type": "code",
   "execution_count": 1,
   "metadata": {},
   "outputs": [
    {
     "name": "stdout",
     "output_type": "stream",
     "text": [
      "301 123\n",
      "302 456\n"
     ]
    }
   ],
   "source": [
    "d = {\n",
    "    301:'123',\n",
    "    302:'456',\n",
    "}\n",
    "for k, v in d.items():\n",
    "    print(k,v)\n",
    "    "
   ]
  },
  {
   "cell_type": "code",
   "execution_count": 7,
   "metadata": {},
   "outputs": [
    {
     "ename": "NameError",
     "evalue": "name 'Any' is not defined",
     "output_type": "error",
     "traceback": [
      "\u001b[1;31m---------------------------------------------------------------------------\u001b[0m",
      "\u001b[1;31mNameError\u001b[0m                                 Traceback (most recent call last)",
      "Cell \u001b[1;32mIn[7], line 2\u001b[0m\n\u001b[0;32m      1\u001b[0m \u001b[39m# 创建一个不定类型的变量\u001b[39;00m\n\u001b[1;32m----> 2\u001b[0m a \u001b[39m=\u001b[39m Any\n\u001b[0;32m      3\u001b[0m \u001b[39mprint\u001b[39m(\u001b[39mtype\u001b[39m(a))\n",
      "\u001b[1;31mNameError\u001b[0m: name 'Any' is not defined"
     ]
    }
   ],
   "source": [
    "# 创建一个不定类型的变量\n",
    "a = Any\n",
    "print(type(a))"
   ]
  }
 ],
 "metadata": {
  "kernelspec": {
   "display_name": "Python 3",
   "language": "python",
   "name": "python3"
  },
  "language_info": {
   "codemirror_mode": {
    "name": "ipython",
    "version": 3
   },
   "file_extension": ".py",
   "mimetype": "text/x-python",
   "name": "python",
   "nbconvert_exporter": "python",
   "pygments_lexer": "ipython3",
   "version": "3.8.8rc1"
  },
  "orig_nbformat": 4
 },
 "nbformat": 4,
 "nbformat_minor": 2
}
