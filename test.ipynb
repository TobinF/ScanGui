{
 "cells": [
  {
   "cell_type": "code",
   "execution_count": 6,
   "metadata": {},
   "outputs": [
    {
     "name": "stdout",
     "output_type": "stream",
     "text": [
      "101','102','103','104','105','106','107','108','109','110','111','112','113','114','115','116','117','118\n",
      "','119','120','121\n"
     ]
    }
   ],
   "source": [
    "from turtle import st\n",
    "import numpy as np\n",
    "\n",
    "A = np.arange(101,122,1,dtype=int)\n",
    "print(str(A).split('[')[1].split(']')[0].replace(' ','\\',\\''))\n",
    "# 将A列表中的元素转化为字符串类型\n",
    "['101','102','103','104','105','106','107','108','109','110','111','112','113','114','115','116','117','118','119','120','121',]\n"
   ]
  },
  {
   "cell_type": "code",
   "execution_count": 2,
   "metadata": {},
   "outputs": [
    {
     "name": "stdout",
     "output_type": "stream",
     "text": [
      "{'101': {'unit': 'V', 'result': ['0.000', '0.000', '0.000'], 'max': None}, '102': {'unit': 'V', 'result': ['0.000', '0.000', '0.000'], 'max': None}, '103': {'unit': 'V', 'result': ['0.000', '0.000', '0.000'], 'max': None}}\n"
     ]
    }
   ],
   "source": [
    "# 设计一个数据结构 \n",
    "channelList = ['101','102','103']\n",
    "channelListUnits = ['V','V','V']\n",
    "channelListResults = [['0.000','0.000','0.000'],['0.000','0.000','0.000'],['0.000','0.000','0.000']]\n",
    "\n",
    "# 拼接到同一个字典\n",
    "channelListDict = {\n",
    "    channelList[i]:{\n",
    "        'unit':channelListUnits[i],\n",
    "        'result':channelListResults[i],\n",
    "        'max':None,\n",
    "    } for i in range(len(channelList))\n",
    "}\n",
    "\n",
    "print(channelListDict)"
   ]
  },
  {
   "cell_type": "code",
   "execution_count": 5,
   "metadata": {},
   "outputs": [
    {
     "name": "stdout",
     "output_type": "stream",
     "text": [
      "channelName {'data': [], 'unit': '', 'type': '', 'maxValue': '', 'minValue': ''}\n",
      "101 {'data': ['1.000', '2.000', '3.000'], 'unit': 'C', 'type': ['rtd-4w', 'rtd-4w', 'rtd-4w'], 'maxValue': '3.000', 'minValue': '1.000'}\n",
      "102 {'data': ['4.000', '5.000', '6.000'], 'unit': 'C', 'type': ['rtd-4w', 'rtd-4w', 'rtd-4w'], 'maxValue': '6.000', 'minValue': '4.000'}\n",
      "103 {'data': ['7.000', '8.000', '9.000'], 'unit': 'C', 'type': ['rtd-4w', 'rtd-4w', 'rtd-4w'], 'maxValue': '9.000', 'minValue': '7.000'}\n"
     ]
    }
   ],
   "source": [
    "channelListDict = {\n",
    "    'channelName':{\n",
    "        'data':[],\n",
    "        'unit':'',\n",
    "        'type':'',\n",
    "        'maxValue':'',\n",
    "        'minValue':'',\n",
    "    }\n",
    "}\n",
    "\n",
    "channelList = ['101','102','103']\n",
    "channelListUnits = ['C','C','C']\n",
    "channelListResults = [\n",
    "                      ['1.000','2.000','3.000'],\n",
    "                      ['4.000','5.000','6.000'],\n",
    "                      ['7.000','8.000','9.000']\n",
    "                      ]\n",
    "\n",
    "# 将数据写入字典\n",
    "for i in range(len(channelList)):\n",
    "    channelListDict[channelList[i]] = {\n",
    "        'data':channelListResults[i],\n",
    "        'unit':channelListUnits[i],\n",
    "        'type':['rtd-4w','rtd-4w','rtd-4w'],\n",
    "        'maxValue':max(channelListResults[i]),\n",
    "        'minValue':min(channelListResults[i]),\n",
    "    }\n",
    "\n",
    "for k,v in channelListDict.items():\n",
    "    print(k,v)"
   ]
  },
  {
   "cell_type": "code",
   "execution_count": 1,
   "metadata": {},
   "outputs": [
    {
     "name": "stdout",
     "output_type": "stream",
     "text": [
      "([1, 2, 3],)\n",
      "{1: ['1.000', '2.000', '3.000', '10', [1, 2, 3]], 2: ['4.000', '5.000', '6.000', '20'], 3: ['7.000', '8.000', '9.000', '30']}\n"
     ]
    }
   ],
   "source": [
    "# m = 2\n",
    "# n = 3\n",
    "\n",
    "# # 生成一个m*n的列表\n",
    "# data = [[]*n]*m\n",
    "# print(data)\n",
    "import numpy as np\n",
    "lst = []\n",
    "dic = { 1: \n",
    "        ['1.000','2.000','3.000','10'],\n",
    "        2:\n",
    "        ['4.000','5.000','6.000','20'],\n",
    "        3:\n",
    "        ['7.000','8.000','9.000','30']\n",
    "    }\n",
    "keylst = list(dic.keys())\n",
    "\n",
    "newData = np.array([1,2,3]).tolist(),\n",
    "# newData =np.array(newData).T.tolist()\n",
    "print(newData)\n",
    "# 将newData中的元素按行添加到data中\n",
    "for i in range(len(newData)):\n",
    "    dic[keylst[i]].append(newData[i])\n",
    "print(dic)\n"
   ]
  },
  {
   "cell_type": "code",
   "execution_count": 12,
   "metadata": {},
   "outputs": [
    {
     "name": "stdout",
     "output_type": "stream",
     "text": [
      "308\n",
      "307\n",
      "306\n",
      "301:305\n",
      "[301, 302, 303, 304, 305, 306, 307, 308]\n"
     ]
    }
   ],
   "source": [
    "lst = \"301:305,306,307,308\"\n",
    "parts = lst.split(',')\n",
    "\n",
    "for part in reversed(parts):\n",
    "    print(part)\n",
    "    if ':' in part:\n",
    "        start, end = part.split(':')\n",
    "        parts.remove(part)\n",
    "        new_part = [int(start) + i for i in range(int(end) - int(start) + 1)] \n",
    "        parts += [x for x in new_part]\n",
    "    else:\n",
    "        parts.append(int(part))\n",
    "        parts.remove(part)\n",
    "parts.sort()\n",
    "print(parts)"
   ]
  },
  {
   "cell_type": "code",
   "execution_count": 8,
   "metadata": {},
   "outputs": [
    {
     "name": "stdout",
     "output_type": "stream",
     "text": [
      "[306, 301, 302, 303, 304, 305, 307, 308]\n",
      "['C', 'C', 'C', 'C', 'C', 'C', 'C', 'C']\n"
     ]
    }
   ],
   "source": [
    "def transString(channelList,unitList):\n",
    "    # 定义一个空列表，用于存放最终结果\n",
    "    channelResult = []\n",
    "    unitResult = []\n",
    "    # 用 , 或 : 分割字符串\n",
    "    channelParts = channelList.split(\",\")\n",
    "    # unitParts = unitList.split(\",\")\n",
    "    # 如果存在空字符串，则删除\n",
    "    if \"\" in channelParts:\n",
    "        channelParts.remove(\"\")\n",
    "        # unitParts.remove(\"\")\n",
    "    partsLength = len(channelParts)\n",
    "    # 遍历分割后的列表\n",
    "    for i in range(partsLength):\n",
    "        # 如果包含 : ，则表示是连续的数字\n",
    "        if \":\" in channelParts[i]:\n",
    "            # 用 : 分割数字，并转换为整数\n",
    "            start, end = channelParts[i].split(\":\")\n",
    "            # 用 range() 函数生成连续的数字，并添加到结果列表中\n",
    "            channelResult.extend(range(int(start), int(end) + 1))\n",
    "            unitResult.extend(unitList[i]*len(range(int(start), int(end) + 1)))\n",
    "        else:\n",
    "            # 否则，直接把数字转换为整数，并添加到结果列表中\n",
    "            channelResult.append(int(channelParts[i]))\n",
    "            unitResult.append(unitList[i])\n",
    "    # 对结果列表进行排序\n",
    "    # result.sort()\n",
    "    # 打印结果列表\n",
    "    # return str(channelResult).replace('[','').replace(']','')\n",
    "    return channelResult, unitResult\n",
    "\n",
    "\n",
    "# channelList = \"306,301:305,307,308\"\n",
    "# unitList = ['C','F','mA','V']\n",
    "channelList = \"306,301:305,307,308,306\"\n",
    "unitList = ['C']*len(channelList.split(','))\n",
    "a, b = transString(channelList, unitList)\n",
    "print(a)\n",
    "print(b)"
   ]
  },
  {
   "cell_type": "code",
   "execution_count": 13,
   "metadata": {},
   "outputs": [
    {
     "name": "stdout",
     "output_type": "stream",
     "text": [
      "[305]\n",
      "['K']\n"
     ]
    }
   ],
   "source": [
    "from app.components.agilent34970a import Agilent34970A\n",
    "\n",
    "channelList = \"306,301:305,307,308\"\n",
    "unitList = ['C']*len(channelList.split(','))\n",
    "a, b = Agilent34970A.transString(channelList, unitList)\n",
    "\n",
    "channelList = '305'\n",
    "unitList = ['K']\n",
    "a, b = Agilent34970A.transString(channelList, unitList)\n",
    "\n",
    "print(a)\n",
    "print(b)"
   ]
  },
  {
   "cell_type": "code",
   "execution_count": null,
   "metadata": {},
   "outputs": [],
   "source": [
    "channelList = \"306,301:305,307,308\"\n",
    "unit = 'C'\n"
   ]
  },
  {
   "cell_type": "code",
   "execution_count": 4,
   "metadata": {},
   "outputs": [
    {
     "name": "stdout",
     "output_type": "stream",
     "text": [
      "[]\n",
      "[1]\n"
     ]
    }
   ],
   "source": [
    "\n",
    "x = []\n",
    "print(x)\n",
    "x.append(1)\n",
    "print(x)"
   ]
  },
  {
   "cell_type": "code",
   "execution_count": 5,
   "metadata": {},
   "outputs": [
    {
     "name": "stdout",
     "output_type": "stream",
     "text": [
      "306,301,302,303,304,305,307,308\n",
      "<class 'str'>\n"
     ]
    }
   ],
   "source": [
    "l = [306, 301, 302, 303, 304, 305, 307, 308]\n",
    "sep = ','\n",
    "st = sep.join(str(i) for i in l)\n",
    "print(st)\n",
    "print(type(st))"
   ]
  },
  {
   "cell_type": "code",
   "execution_count": 1,
   "metadata": {},
   "outputs": [
    {
     "name": "stdout",
     "output_type": "stream",
     "text": [
      "('308,305,306,307,302,101,102,103,104', '308,307,307,307,302,101,104,104,104')\n"
     ]
    }
   ],
   "source": [
    "# 定义一个函数，用来将形如\"308,305:307,302\"的字符串转换为列表和单位\n",
    "def parse_string(s):\n",
    "    # 初始化一个空列表和空单位\n",
    "    result = []\n",
    "    unit = []\n",
    "    # 按逗号分割字符串\n",
    "    segments = s.split(\",\")\n",
    "    # 遍历每个分割后的字符串\n",
    "    for segment in segments:\n",
    "        # 如果有冒号，表示是一个范围\n",
    "        if \":\" in segment:\n",
    "            # 按冒号分割范围，并转换为整数\n",
    "            start, end = map(int, segment.split(\":\"))\n",
    "            # 将范围内的所有整数添加到结果列表中\n",
    "            result.extend(range(start, end + 1))\n",
    "            # 将范围内的所有单位添加到单位列表中\n",
    "            unit.extend([end] * (end - start + 1))\n",
    "        else:\n",
    "            # 否则，表示是一个单个值，直接转换为整数并添加到结果列表中\n",
    "            result.append(int(segment))\n",
    "            # 将单个值的单位添加到单位列表中\n",
    "            unit.append(int(segment))\n",
    "    # 返回结果列表和单位列表\n",
    "    return result, unit\n",
    "\n",
    "# 定义一个函数，用来将新的通道和单位拼接到原通道字符串中\n",
    "def append_string(old_s, new_s, new_u):\n",
    "    # 如果原通道字符串为空，则直接返回新通道和单位\n",
    "    if not old_s:\n",
    "        return new_s, new_u\n",
    "    # 否则，先将原通道字符串和新通道字符串转换为列表和单位\n",
    "    old_result, old_unit = parse_string(old_s)\n",
    "    new_result, new_unit = parse_string(new_s)\n",
    "    # 遍历新通道列表和单位列表\n",
    "    for i in range(len(new_result)):\n",
    "        # 如果新通道已在原通道列表中，则不拼接，但是要更新单位\n",
    "        if new_result[i] in old_result:\n",
    "            index = old_result.index(new_result[i])\n",
    "            old_unit[index] = new_unit[i]\n",
    "        else:\n",
    "            # 否则，将新通道和单位拼接到原通道列表和单位列表中\n",
    "            old_result.append(new_result[i])\n",
    "            old_unit.append(new_unit[i])\n",
    "    # 将更新后的原通道列表和单位列表转换为字符串，并返回\n",
    "    return \",\".join(map(str, old_result)), \",\".join(map(str, old_unit))\n",
    "\n",
    "# 测试一下函数的效果\n",
    "old_s = \"308,305:307,302\"\n",
    "new_s = \"101,102:104\"\n",
    "new_u = \"V,A\"\n",
    "print(append_string(old_s, new_s, new_u))\n",
    "# 输出：('308,305,306,307,302,101,102,103,104', 'K,C,C,C,F,V,A,A,A')\n"
   ]
  },
  {
   "cell_type": "markdown",
   "metadata": {},
   "source": [
    "输入字符串形如: \"308,305:307,302\"，表示一个列表[308,305,306,307,302]\n",
    "输入与字符串对应的单位，如: \"K,  C, F\"，表示与上述列表对应的单位列表[K,  C,  C,  C,  F]\n",
    "\n",
    "添加新的通道和单位时，拼接到原通道字符串，如添加101,102:104，对应单位为: V, A\n",
    "拼接为: \"308,305,306,307,302,101,102,103,104\"\n",
    "同时拼接单位，\"K,  C,  C,  C,  F,  V, A, A, A\"\n",
    "如果原通道字符串为空或者新通道未出现在原通道列表中，则直接拼接\n",
    "如果新通道已在原通道字符串中，则不拼接，但是要更新单位\n",
    "如原通道字符串为: 308,305:307,302\n",
    "新通道为: 306，单位为V，则不拼接通道，但更新306通道单位为: K,  C,  V,  C,  F\n",
    "新通道为：310，单位为A，则执行斌姐通道拼接，拼接后为: 308,305，306，307,302,310，单位为: K,  C,  C,  C,  F,  A\n"
   ]
  },
  {
   "cell_type": "code",
   "execution_count": 3,
   "metadata": {},
   "outputs": [
    {
     "ename": "TypeError",
     "evalue": "parse_string() missing 1 required positional argument: 'u'",
     "output_type": "error",
     "traceback": [
      "\u001b[1;31m---------------------------------------------------------------------------\u001b[0m",
      "\u001b[1;31mTypeError\u001b[0m                                 Traceback (most recent call last)",
      "Cell \u001b[1;32mIn[3], line 50\u001b[0m\n\u001b[0;32m     48\u001b[0m old_s \u001b[39m=\u001b[39m \u001b[39m\"\u001b[39m\u001b[39m308,305:307,302\u001b[39m\u001b[39m\"\u001b[39m\n\u001b[0;32m     49\u001b[0m old_u \u001b[39m=\u001b[39m \u001b[39m\"\u001b[39m\u001b[39mK,C,F\u001b[39m\u001b[39m\"\u001b[39m\n\u001b[1;32m---> 50\u001b[0m \u001b[39mprint\u001b[39m(parse_string(old_s))\n\u001b[0;32m     51\u001b[0m new_s \u001b[39m=\u001b[39m \u001b[39m\"\u001b[39m\u001b[39m306\u001b[39m\u001b[39m\"\u001b[39m\n\u001b[0;32m     52\u001b[0m new_u \u001b[39m=\u001b[39m \u001b[39m\"\u001b[39m\u001b[39mV\u001b[39m\u001b[39m\"\u001b[39m\n",
      "\u001b[1;31mTypeError\u001b[0m: parse_string() missing 1 required positional argument: 'u'"
     ]
    }
   ],
   "source": [
    "# 定义一个函数，用来将形如\"308,305:307,302\"的字符串转换为列表和单位\n",
    "def parse_string(s, u):\n",
    "    # 初始化一个空列表和空单位\n",
    "    result = []\n",
    "    unit = []\n",
    "    # 按逗号分割字符串\n",
    "    segments = s.split(\",\")\n",
    "    # 遍历每个分割后的字符串\n",
    "    for segment in segments:\n",
    "        # 如果有冒号，表示是一个范围\n",
    "        if \":\" in segment:\n",
    "            # 按冒号分割范围，并转换为整数\n",
    "            start, end = map(int, segment.split(\":\"))\n",
    "            # 将范围内的所有整数添加到结果列表中\n",
    "            result.extend(range(start, end + 1))\n",
    "            # 将范围内的所有单位添加到单位列表中\n",
    "            unit.extend([end] * (end - start + 1))\n",
    "        else:\n",
    "            # 否则，表示是一个单个值，直接转换为整数并添加到结果列表中\n",
    "            result.append(int(segment))\n",
    "            # 将单个值的单位添加到单位列表中\n",
    "            unit.append(int(segment))\n",
    "    # 返回结果列表和单位列表\n",
    "    return result, unit\n",
    "\n",
    "# 定义一个函数，用来将新的通道和单位拼接到原通道字符串中\n",
    "def append_string(old_s, old_u, new_s, new_u):\n",
    "    # 如果原通道字符串为空，则直接返回新通道和单位\n",
    "    if not old_s:\n",
    "        return new_s, new_u\n",
    "    # 否则，先将原通道字符串和新通道字符串转换为列表和单位\n",
    "    old_result, old_unit = parse_string(old_s)\n",
    "    new_result, new_unit = parse_string(new_s)\n",
    "    # 遍历新通道列表和单位列表\n",
    "    for i in range(len(new_result)):\n",
    "        # 如果新通道已在原通道列表中，则不拼接，但是要更新单位\n",
    "        if new_result[i] in old_result:\n",
    "            index = old_result.index(new_result[i])\n",
    "            old_unit[index] = new_unit[i]\n",
    "        else:\n",
    "            # 否则，将新通道和单位拼接到原通道列表和单位列表中\n",
    "            old_result.append(new_result[i])\n",
    "            old_unit.append(new_unit[i])\n",
    "    # 将更新后的原通道列表和单位列表转换为字符串，并返回\n",
    "    return \",\".join(map(str, old_result)), \",\".join(map(str, old_unit))\n",
    "\n",
    "# 测试一下函数的效果\n",
    "old_s = \"308,305:307,302\"\n",
    "old_u = \"K,C,F\"\n",
    "print(parse_string(old_s))\n",
    "new_s = \"306\"\n",
    "new_u = \"V\"\n",
    "print(append_string(old_s, old_u, new_s, new_u))\n",
    "# 输出：('308,305,306,307,302', 'K,C,V,C,F')\n"
   ]
  },
  {
   "cell_type": "code",
   "execution_count": null,
   "metadata": {},
   "outputs": [],
   "source": [
    "def transString(self):\n",
    "    channelListStr = self.channelListStr\n",
    "    unitList = self.unitsList\n",
    "    typeList = self.physicalType\n",
    "    # 定义一个空列表，用于存放最终结果\n",
    "    channelResult = []\n",
    "    unitResult = []\n",
    "    typeResult = []\n",
    "    # 用 , 或 : 分割字符串,\n",
    "    channelParts = channelListStr.split(\",\")\n",
    "    # 如果存在空字符串，则删除\n",
    "    if \"\" in channelParts:\n",
    "        channelParts.remove(\"\")\n",
    "        # unitParts.remove(\"\")\n",
    "    partsLength = len(channelParts)\n",
    "    # 遍历分割后的列表\n",
    "    for i in range(partsLength):\n",
    "        # 如果包含 : ，则表示是连续的数字\n",
    "        if \":\" in channelParts[i]:\n",
    "            # 用 : 分割数字，并转换为整数\n",
    "            start, end = channelParts[i].split(\":\")\n",
    "            # 用 range() 函数生成连续的数字，并添加到结果列表中\n",
    "            channelResult.extend(range(int(start), int(end) + 1))\n",
    "            unitResult.extend([unitList[i]]*len(range(int(start), int(end) + 1)))\n",
    "            typeResult.extend([typeList[i]]*len(range(int(start), int(end) + 1)))\n",
    "        else:\n",
    "            # 否则，添加到结果列表中\n",
    "            channelResult.append(int(channelParts[i]))\n",
    "            unitResult.append(unitList[i])\n",
    "            typeResult.append(typeList[i])\n",
    "    # 对结果列表进行排序\n",
    "    # result.sort()\n",
    "    # 打印结果列表\n",
    "    # return str(channelResult).replace('[','').replace(']','')\n",
    "    # return channelResult, unitResult, typeResult\n",
    "    # self.channelList\n",
    "    for i in range(len(channelResult)):\n",
    "        self.channelListDict[channelResult[i]] = {\n",
    "            'data':[],\n",
    "            'unit':unitResult[i],\n",
    "            'time':[],\n",
    "            'type':typeResult[i],\n",
    "            'maxValue':0,\n",
    "            'minValue':0,\n",
    "        }\n",
    "    self.channelListDict = dict(sorted(self.channelListDict.items(), key=lambda x: x[0], reverse=False))\n",
    "    sep = ','\n",
    "    self.channelListStr = sep.join(str(k) for k in self.channelListDict.keys())\n",
    "    self.channelList = list(self.channelListDict.keys())\n",
    "\n"
   ]
  },
  {
   "cell_type": "code",
   "execution_count": 1,
   "metadata": {},
   "outputs": [
    {
     "name": "stdout",
     "output_type": "stream",
     "text": [
      "301 123\n",
      "302 456\n"
     ]
    }
   ],
   "source": [
    "d = {\n",
    "    301:'123',\n",
    "    302:'456',\n",
    "}\n",
    "for k, v in d.items():\n",
    "    print(k,v)\n",
    "    "
   ]
  },
  {
   "cell_type": "code",
   "execution_count": 1,
   "metadata": {},
   "outputs": [
    {
     "name": "stdout",
     "output_type": "stream",
     "text": [
      "1\n",
      "2\n",
      "3\n",
      "4\n",
      "Function timer (args=()) (kwargs={}) timed out after 5.000000 seconds.\n",
      "\n",
      "Time out!!!\n"
     ]
    }
   ],
   "source": [
    "import time\n",
    "from func_timeout import func_set_timeout\n",
    "import func_timeout\n",
    " \n",
    "@func_set_timeout(5)\n",
    "def timer():\n",
    "    for num in range(1,11):\n",
    "        time.sleep(1)\n",
    "        print(num)\n",
    " \n",
    "try:\n",
    "    timer()\n",
    "except func_timeout.exceptions.FunctionTimedOut as e:\n",
    "    print(e)\n",
    "    print(\"Time out!!!\")\n"
   ]
  },
  {
   "cell_type": "code",
   "execution_count": 2,
   "metadata": {},
   "outputs": [
    {
     "name": "stdout",
     "output_type": "stream",
     "text": [
      "1693070124.524605\n"
     ]
    }
   ],
   "source": [
    "import time\n",
    "print(time.time())"
   ]
  },
  {
   "cell_type": "code",
   "execution_count": 29,
   "metadata": {},
   "outputs": [
    {
     "name": "stdout",
     "output_type": "stream",
     "text": [
      "['a', 'b', '__module__', '__init__', 'test', 'test2', 'get_test_var', '__dict__', '__weakref__', '__doc__', '__repr__', '__hash__', '__str__', '__getattribute__', '__setattr__', '__delattr__', '__lt__', '__le__', '__eq__', '__ne__', '__gt__', '__ge__', '__new__', '__reduce_ex__', '__reduce__', '__subclasshook__', '__init_subclass__', '__format__', '__sizeof__', '__dir__', '__class__']\n",
      "['test', 'test2', 'get_test_var']\n",
      "test\n",
      "test2\n",
      "get_test_var\n"
     ]
    }
   ],
   "source": [
    "class ABC(object):\n",
    "    # a = 10\n",
    "    def __init__(self):\n",
    "        self.a = 20\n",
    "        self.b = 30\n",
    "    def test(self):\n",
    "        return('test')\n",
    "        ...\n",
    "    def test2(self):\n",
    "        return('test2')\n",
    "        ...\n",
    "    def get_test_var(self):\n",
    "        return('get_test_var')\n",
    "        ...\n",
    "\n",
    "    # def getClassVar(self):\n",
    "    #     return self.get_class_var()\n",
    "\n",
    "a = ABC()\n",
    "# print(getattr(a,'a'))\n",
    "di = a.__dir__()\n",
    "print(di)\n",
    "t = (d for d in di if 'test' in d)\n",
    "# print(t)\n",
    "tt = list(method for method in a.__dir__() if 'test' in method)\n",
    "print(tt)\n",
    "for i in tt:\n",
    "    print(getattr(a,i)())"
   ]
  },
  {
   "cell_type": "code",
   "execution_count": 3,
   "metadata": {},
   "outputs": [
    {
     "name": "stdout",
     "output_type": "stream",
     "text": [
      "22\n",
      "<generator object <genexpr> at 0x00000170E0A85510>\n",
      "#e6194B\n"
     ]
    }
   ],
   "source": [
    "colorList = ['#e6194B', '#3cb44b', '#ffe119', '#4363d8', '#f58231', '#911eb4', '#42d4f4', '#f032e6', '#bfef45', '#fabed4', '#469990', '#dcbeff', '#9A6324', '#fffac8', '#800000', '#aaffc3', '#808000', '#ffd8b1', '#000075', '#a9a9a9', '#ffffff', '#000000']\n",
    "print(len(colorList))\n",
    "# 将列表转换为生成器\n",
    "colorList = (color for color in colorList)\n",
    "print(colorList)\n",
    "print(next(colorList))"
   ]
  },
  {
   "cell_type": "code",
   "execution_count": 6,
   "metadata": {},
   "outputs": [
    {
     "name": "stdout",
     "output_type": "stream",
     "text": [
      "[ 2.120e-08 -1.695e-07  6.360e-08  0.000e+00 -1.271e-07 -1.483e-07\n",
      " -8.470e-08 -6.360e-08 -1.695e-07 -8.470e-08 -8.470e-08 -4.240e-08\n",
      " -1.483e-07 -4.240e-08 -6.360e-08]\n",
      "[ 0.  2.  4.  6.  8.  9. 11. 13. 14. 16. 18. 20. 21. 23. 25.]\n"
     ]
    }
   ],
   "source": [
    "with open('data.json', 'r') as f:\n",
    "    data = f.read()\n",
    "\n",
    "# print(data)\n",
    "import json\n",
    "import numpy as np\n",
    "data = json.loads(data)\n",
    "\n",
    "for k,v in data.items():\n",
    "    data = np.array(v['data'])\n",
    "    time = np.array(v['time'])-v['time'][0]\n",
    "\n",
    "print(data)\n",
    "print(time)"
   ]
  },
  {
   "cell_type": "code",
   "execution_count": 17,
   "metadata": {},
   "outputs": [
    {
     "name": "stdout",
     "output_type": "stream",
     "text": [
      "1693121413.969\n"
     ]
    }
   ],
   "source": [
    "import datetime\n",
    "import time\n",
    "time0 = '2023,08,27,15,30,13.969'\n",
    "# 转化为时间戳\n",
    "# print(time.strptime.__doc__)\n",
    "# timeArray = time.strptime(time0, f\"%Y,%m,%d,%H,%M,%S.%f\")\n",
    "timeStamp = datetime.datetime.strptime(time0, f\"%Y,%m,%d,%H,%M,%S.%f\").timestamp()\n",
    "# timeStamp = int(time.mktime(timeArray))\n",
    "print(timeStamp)"
   ]
  },
  {
   "cell_type": "code",
   "execution_count": 18,
   "metadata": {},
   "outputs": [
    {
     "name": "stdout",
     "output_type": "stream",
     "text": [
      "['2023,08,27,15,42,52.583' '2023,08,27,15,42,52.656']\n",
      "['+2.64480000E+01' '-9.90000000E+37']\n"
     ]
    }
   ],
   "source": [
    "lst = np.array(['+2.64480000E+01','2023,08,27,15,42,52.583','-9.90000000E+37','2023,08,27,15,42,52.656'])\n",
    "\n",
    "# 将lst分为两个数组，一个是时间，一个是数据\n",
    "time = lst[1::2]\n",
    "data = lst[::2]\n",
    "\n",
    "print(time)\n",
    "print(data)"
   ]
  },
  {
   "cell_type": "code",
   "execution_count": 67,
   "metadata": {},
   "outputs": [
    {
     "name": "stdout",
     "output_type": "stream",
     "text": [
      "[[2023.       8.      27.      17.      35.      41.816]\n",
      " [2023.       8.      27.      17.      35.      41.889]\n",
      " [2023.       8.      27.      17.      35.      41.961]\n",
      " [2023.       8.      27.      17.      35.      42.034]]\n",
      "[2023.       8.      27.      17.      35.      41.816]\n",
      "1693128941.816\n",
      "[2023.       8.      27.      17.      35.      41.889]\n",
      "1693128941.889\n",
      "[2023.       8.      27.      17.      35.      41.961]\n",
      "1693128941.961\n",
      "[2023.       8.      27.      17.      35.      42.034]\n",
      "1693128942.034\n"
     ]
    }
   ],
   "source": [
    "data = [\n",
    "  2.9291e+01,  2.0230e+03,  8.0000e+00,  2.7000e+01,  1.7000e+01,  3.5000e+01,\n",
    "  4.1816e+01, -9.9000e+37,  2.0230e+03,  8.0000e+00,  2.7000e+01,  1.7000e+01,\n",
    "  3.5000e+01,  4.1889e+01, -9.9000e+37,  2.0230e+03,  8.0000e+00,  2.7000e+01,\n",
    "  1.7000e+01,  3.5000e+01,  4.1961e+01,  9.9000e+37,  2.0230e+03,  8.0000e+00,\n",
    "  2.7000e+01,  1.7000e+01,  3.5000e+01,  4.2034e+01]\n",
    "data = np.array(data).reshape(-1,7)\n",
    "# 截取data中2-7位的数据作为时间\n",
    "time0 = data[:, 1:]\n",
    "# print(time0)\n",
    "for i in time0:\n",
    "    print(i)\n",
    "    sep = ','\n",
    "    i = sep.join(str(j) for j in i)\n",
    "    strTime = datetime.datetime.strptime(i, f\"%Y.0,%m.0,%d.0,%H.0,%M.0,%S.%f\").timestamp()\n",
    "    print(strTime)\n",
    "result = data[:, 0]\n"
   ]
  },
  {
   "cell_type": "code",
   "execution_count": 65,
   "metadata": {},
   "outputs": [
    {
     "name": "stdout",
     "output_type": "stream",
     "text": [
      "30.652\n",
      "[2023.0, 8.0, 27.0, 22.0, 39.0, 40.314]\n",
      "-9.9e+37\n",
      "[2023.0, 8.0, 27.0, 22.0, 39.0, 40.387]\n",
      "-9.9e+37\n",
      "[2023.0, 8.0, 27.0, 22.0, 39.0, 40.46]\n"
     ]
    }
   ],
   "source": [
    "lst = [ 3.0652e+01,  2.0230e+03 , 8.0000e+00 , 2.7000e+01,  2.2000e+01 , 3.9000e+01,\n",
    "  4.0314e+01, -9.9000e+37 , 2.0230e+03 , 8.0000e+00,  2.7000e+01 , 2.2000e+01,\n",
    "  3.9000e+01,  4.0387e+01, -9.9000e+37,  2.0230e+03,  8.0000e+00 , 2.7000e+01,\n",
    "  2.2000e+01,  3.9000e+01 , 4.0460e+01]\n",
    "j=0\n",
    "for i in range(3):\n",
    "    print(lst[j:j+7][0])\n",
    "    print(lst[j:j+7][1:])\n",
    "    j+=7\n",
    "\n",
    "# print('a','1',2)"
   ]
  },
  {
   "cell_type": "code",
   "execution_count": 69,
   "metadata": {},
   "outputs": [
    {
     "name": "stdout",
     "output_type": "stream",
     "text": [
      "defaultdict(<class 'list'>, {3: ['apple', 'orange'], 2: ['banana', 'kiwi'], 1: ['pear']})\n"
     ]
    }
   ],
   "source": [
    "\n",
    "# 使用 defaultdict 和 list comprehension 进行分组\n",
    "my_dict = {'apple': 3, 'banana': 2, 'orange': 3, 'pear': 1, 'kiwi': 2}\n",
    "\n",
    "from collections import defaultdict\n",
    "grouped_dict = defaultdict(list)\n",
    "for key, value in my_dict.items():\n",
    "    grouped_dict[value].append(key)\n",
    "# 输出分组后的字典\n",
    "print(grouped_dict)"
   ]
  },
  {
   "cell_type": "code",
   "execution_count": 81,
   "metadata": {},
   "outputs": [
    {
     "ename": "TypeError",
     "evalue": "string indices must be integers",
     "output_type": "error",
     "traceback": [
      "\u001b[1;31m---------------------------------------------------------------------------\u001b[0m",
      "\u001b[1;31mTypeError\u001b[0m                                 Traceback (most recent call last)",
      "Cell \u001b[1;32mIn[81], line 22\u001b[0m\n\u001b[0;32m     10\u001b[0m \u001b[39m# dic = {\u001b[39;00m\n\u001b[0;32m     11\u001b[0m \u001b[39m#     {\"name\": 'tom', \"age\": 1},\u001b[39;00m\n\u001b[0;32m     12\u001b[0m \u001b[39m#     {\"name\": \"jack\", \"age\": 12},\u001b[39;00m\n\u001b[1;32m   (...)\u001b[0m\n\u001b[0;32m     18\u001b[0m \u001b[39m#     items = copy.deepcopy(items)\u001b[39;00m\n\u001b[0;32m     19\u001b[0m \u001b[39m#     print(date,list(items))\u001b[39;00m\n\u001b[0;32m     21\u001b[0m \u001b[39mfor\u001b[39;00m i \u001b[39min\u001b[39;00m \u001b[39mrange\u001b[39m(\u001b[39mlen\u001b[39m(dic)):\n\u001b[1;32m---> 22\u001b[0m     \u001b[39mfor\u001b[39;00m date, items \u001b[39min\u001b[39;00m groupby(\u001b[39msorted\u001b[39;49m(dic[i\u001b[39m+\u001b[39;49m\u001b[39m1\u001b[39;49m], key\u001b[39m=\u001b[39;49mitemgetter(\u001b[39m'\u001b[39;49m\u001b[39mage\u001b[39;49m\u001b[39m'\u001b[39;49m)), key\u001b[39m=\u001b[39mitemgetter(\u001b[39m'\u001b[39m\u001b[39mage\u001b[39m\u001b[39m'\u001b[39m)):\n\u001b[0;32m     23\u001b[0m         items \u001b[39m=\u001b[39m copy\u001b[39m.\u001b[39mdeepcopy(items)\n\u001b[0;32m     24\u001b[0m         \u001b[39mprint\u001b[39m(date,\u001b[39mlist\u001b[39m(items))\n",
      "\u001b[1;31mTypeError\u001b[0m: string indices must be integers"
     ]
    }
   ],
   "source": [
    "from itertools import groupby\n",
    "from operator import itemgetter\n",
    "import copy\n",
    "\n",
    "dic = {\n",
    "            1: {\"name\": 'tom', \"age\": 1}, \n",
    "            2: {\"name\": \"jack\", \"age\": 12}, \n",
    "            3: {\"name\": \"lily\", \"age\": 12}\n",
    "        }\n",
    "# dic = {\n",
    "#     {\"name\": 'tom', \"age\": 1},\n",
    "#     {\"name\": \"jack\", \"age\": 12},\n",
    "#     {\"name\": \"lily\", \"age\": 12},\n",
    "#     {\"name\": \"lily\", \"age\": 12},\n",
    "# }\n",
    "\n",
    "# for date, items in groupby(sorted(dic, key=itemgetter('age')), key=itemgetter('age')):\n",
    "#     items = copy.deepcopy(items)\n",
    "#     print(date,list(items))\n",
    "\n",
    "for i in range(len(dic)):\n",
    "    for date, items in groupby(sorted(dic[i+1], key=itemgetter('age')), key=itemgetter('age')):\n",
    "        items = copy.deepcopy(items)\n",
    "        print(date,list(items))\n",
    "    # print(i)\n"
   ]
  },
  {
   "cell_type": "code",
   "execution_count": 82,
   "metadata": {},
   "outputs": [
    {
     "name": "stdout",
     "output_type": "stream",
     "text": [
      "[[[1, 'tom', 1]], [[2, 'jack', 12], [3, 'lily', 12]]]\n"
     ]
    }
   ],
   "source": [
    "# 定义一个字典，存储姓名和年龄\n",
    "# dic = {\n",
    "#     1: {\"name\": 'tom', \"age\": 1}, \n",
    "#     2: {\"name\": \"jack\", \"age\": 12}, \n",
    "#     3: {\"name\": \"lily\", \"age\": 12}\n",
    "# }\n",
    "with open('1.json', 'r',encoding='utf-8') as f:\n",
    "    dic = json.load(f)\n",
    "\n",
    "# 定义一个空列表，用来存储分组后的结果\n",
    "result = []\n",
    "\n",
    "# 定义一个空集合，用来存储已经分组过的年龄\n",
    "ages = set()\n",
    "\n",
    "# 遍历字典中的每一项\n",
    "for key, value in dic.items():\n",
    "    # 获取当前项的姓名和年龄\n",
    "    # physicalType = value[\"type\"]\n",
    "    # unit = value[\"unit\"]\n",
    "    # data = value[\"data\"]\n",
    "    # time = value[\"time\"]\n",
    "    name = value[\"name\"]\n",
    "    age = value[\"age\"]\n",
    "    \n",
    "    # 如果当前年龄已经在集合中，说明已经分组过，跳过这一项\n",
    "    if age in ages:\n",
    "        continue\n",
    "    \n",
    "    # 否则，将当前年龄添加到集合中\n",
    "    ages.add(age)\n",
    "    \n",
    "    # 定义一个空列表，用来存储当前年龄的所有项\n",
    "    group = []\n",
    "    \n",
    "    # 再次遍历字典中的每一项\n",
    "    for k, v in dic.items():\n",
    "        # 如果当前项的年龄和之前的年龄相同，将其添加到列表中\n",
    "        if v[\"age\"] == age:\n",
    "            group.append([k, v[\"name\"], v[\"age\"]])\n",
    "    \n",
    "    # 将当前年龄的列表添加到结果列表中\n",
    "    result.append(group)\n",
    "\n",
    "# 打印结果列表\n",
    "print(result)\n"
   ]
  },
  {
   "cell_type": "code",
   "execution_count": 8,
   "metadata": {},
   "outputs": [
    {
     "name": "stdout",
     "output_type": "stream",
     "text": [
      "温度\n",
      "305 C [30.583, 30.589, 30.593, 30.595, 30.6, 30.6, 30.601, 30.602, 30.606, 30.609, 30.609, 30.607] [1693152392.458, 1693152393.744, 1693152395.038, 1693152396.33, 1693152397.615, 1693152398.91, 1693152400.205, 1693152401.509, 1693152402.806, 1693152404.098, 1693152405.381, 1693152406.685]\n",
      "306 C [-9.9e+37, -9.9e+37, -9.9e+37, -9.9e+37, -9.9e+37, -9.9e+37, -9.9e+37, -9.9e+37, -9.9e+37, -9.9e+37, -9.9e+37, -9.9e+37] [1693152392.529, 1693152393.815, 1693152395.108, 1693152396.401, 1693152397.686, 1693152398.981, 1693152400.276, 1693152401.58, 1693152402.877, 1693152404.168, 1693152405.452, 1693152406.756]\n",
      "流量\n",
      "307 ma [9.9e+37, -9.9e+37, 9.9e+37, -9.9e+37, 9.9e+37, -9.9e+37, -9.9e+37, -9.9e+37, 9.9e+37, -9.9e+37, -9.9e+37, -9.9e+37] [1693152392.6, 1693152393.887, 1693152395.18, 1693152396.473, 1693152397.757, 1693152399.053, 1693152400.347, 1693152401.651, 1693152402.948, 1693152404.24, 1693152405.523, 1693152406.828]\n"
     ]
    }
   ],
   "source": [
    "# 定义一个字典，存储温度数据\n",
    "# dic = {\n",
    "#     \"305\": {\n",
    "#         \"data\": [\n",
    "#             30.583,\n",
    "#             30.589,\n",
    "#             30.593,\n",
    "#             30.595,\n",
    "#             30.6,\n",
    "#             30.6,\n",
    "#             30.601,\n",
    "#             30.602,\n",
    "#             30.606,\n",
    "#             30.609,\n",
    "#             30.609,\n",
    "#             30.607\n",
    "#         ],\n",
    "#         \"type\": \"温度\",\n",
    "#         \"unit\": \"C\",\n",
    "#         \"time\": [\n",
    "#             1693152392.458,\n",
    "#             1693152393.744,\n",
    "#             1693152395.038,\n",
    "#             1693152396.33,\n",
    "#             1693152397.615,\n",
    "#             1693152398.91,\n",
    "#             1693152400.205,\n",
    "#             1693152401.509,\n",
    "#             1693152402.806,\n",
    "#             1693152404.098,\n",
    "#             1693152405.381,\n",
    "#             1693152406.685\n",
    "#         ],\n",
    "#         \"maxValue\": 30.609,\n",
    "#         \"minValue\": 30.583\n",
    "#     },\n",
    "#     \"306\": {\n",
    "#         \"data\": [\n",
    "#             -9.9e+37,\n",
    "#             -9.9e+37,\n",
    "#             -9.9e+37,\n",
    "#             -9.9e+37,\n",
    "#             -9.9e+37,\n",
    "#             -9.9e+37,\n",
    "#             -9.9e+37,\n",
    "#             -9.9e+37,\n",
    "#             -9.9e+37,\n",
    "#             -9.9e+37,\n",
    "#             -9.9e+37,\n",
    "#             -9.9e+37\n",
    "#         ],\n",
    "#         \"type\": \"温度\",\n",
    "#         \"unit\": \"C\",\n",
    "#         \"time\": [\n",
    "#             1693152392.529,\n",
    "#             1693152393.815,\n",
    "#             1693152395.108,\n",
    "#             1693152396.401,\n",
    "#             1693152397.686,\n",
    "#             1693152398.981,\n",
    "#             1693152400.276,\n",
    "#             1693152401.58,\n",
    "#             1693152402.877,\n",
    "#             1693152404.168,\n",
    "#             1693152405.452,\n",
    "#             1693152406.756\n",
    "#         ],\n",
    "#         \"maxValue\": -9.9e+37,\n",
    "#         \"minValue\": -9.9e+37\n",
    "#     }\n",
    "# }\n",
    "import json\n",
    "with open('1.json', 'r',encoding='utf-8') as f:\n",
    "    dic = json.load(f)\n",
    "\n",
    "# 定义一个空字典，用来存储按照type分组后的结果\n",
    "result = {}\n",
    "\n",
    "# 遍历字典中的每一项\n",
    "for key, value in dic.items():\n",
    "    # 获取当前项的类型，数据，单位和时间\n",
    "    type = value[\"type\"]\n",
    "    data = value[\"data\"]\n",
    "    unit = value[\"unit\"]\n",
    "    time = value[\"time\"]\n",
    "    \n",
    "    # 如果当前类型已经在结果字典中，说明已经分组过，将当前项添加到对应的列表中\n",
    "    if type in result:\n",
    "        result[type].append({\"channel\": key, \"unit\": unit, \"data\": data, \"time\": time})\n",
    "    \n",
    "    # 否则，将当前类型作为一个新的键，创建一个空列表作为值，并将当前项添加到列表中\n",
    "    else:\n",
    "        result[type] = [{\"channel\": key, \"unit\": unit, \"data\": data, \"time\": time}]\n",
    "\n",
    "# 打印结果字典\n",
    "for k,v in result.items():\n",
    "    print(k)\n",
    "    # for d in v:\n",
    "    #     print(i)\n",
    "    for i in range(len(v)):\n",
    "        print(v[i]['channel'],v[i]['unit'],v[i]['data'],v[i]['time'])\n",
    "    \n"
   ]
  },
  {
   "cell_type": "code",
   "execution_count": null,
   "metadata": {},
   "outputs": [],
   "source": [
    "{'温度': [\n",
    "    {'channel': '305', 'unit': 'C', 'data': [30.583, 30.589, 30.593, 30.595, 30.6, 30.6, 30.601, 30.602, 30.606, 30.609, 30.609, 30.607], 'time': [1693152392.458, 1693152393.744, 1693152395.038, 1693152396.33, 1693152397.615, 1693152398.91, 1693152400.205, 1693152401.509, 1693152402.806, 1693152404.098, 1693152405.381, 1693152406.685]}, \n",
    "    {'channel': '306', 'unit': 'C', 'data': [-9.9e+37, -9.9e+37, -9.9e+37, -9.9e+37, -9.9e+37, -9.9e+37, -9.9e+37, -9.9e+37, -9.9e+37, -9.9e+37, -9.9e+37, -9.9e+37], 'time': [1693152392.529,1693152393.815, 1693152395.108, 1693152396.401, 1693152397.686, 1693152398.981, 1693152400.276, 1693152401.58, 1693152402.877, 1693152404.168, 1693152405.452, 1693152406.756]}, \n",
    "    {'channel': '307', 'unit': 'C', 'data': [9.9e+37, -9.9e+37, 9.9e+37, -9.9e+37, 9.9e+37, -9.9e+37, -9.9e+37, -9.9e+37, 9.9e+37, -9.9e+37, -9.9e+37, -9.9e+37], 'time': [1693152392.6, 1693152393.887, 1693152395.18, 1693152396.473, 1693152397.757, 1693152399.053, 1693152400.347, 1693152401.651, 1693152402.948, 1693152404.24, 1693152405.523, 1693152406.828]}\n",
    "    ]\n",
    "}\n"
   ]
  },
  {
   "cell_type": "code",
   "execution_count": 9,
   "metadata": {},
   "outputs": [
    {
     "name": "stdout",
     "output_type": "stream",
     "text": [
      "1\n"
     ]
    }
   ],
   "source": [
    "print(len([{'channel': 305, 'unit': 'C', 'data': [29.667, 29.691], 'time': [1693158772.332, 1693158773.476]}]))"
   ]
  },
  {
   "cell_type": "code",
   "execution_count": 11,
   "metadata": {},
   "outputs": [
    {
     "name": "stdout",
     "output_type": "stream",
     "text": [
      "[ 0.          2.13100004  3.68199992  5.477       7.06200004  8.64699984\n",
      " 10.22599983 11.82200003 13.40499997 14.9849999  16.56599998 18.14199996\n",
      " 19.72399998 21.29999995 22.88100004 24.46299982 26.03799987]\n"
     ]
    }
   ],
   "source": [
    "import numpy as np\n",
    "\n",
    "lst = [1693198574.578, 1693198576.709, 1693198578.26, 1693198580.055, 1693198581.64, 1693198583.225, 1693198584.804, 1693198586.4, 1693198587.983, 1693198589.563, 1693198591.144, 1693198592.72, 1693198594.302, 1693198595.878, 1693198597.459, 1693198599.041, 1693198600.616]\n",
    "\n",
    "lst = np.array(lst)-lst[0]\n",
    "\n",
    "print(lst)"
   ]
  },
  {
   "cell_type": "code",
   "execution_count": 13,
   "metadata": {},
   "outputs": [
    {
     "name": "stdout",
     "output_type": "stream",
     "text": [
      "[27.58, 2023.0, 8.0, 28.0, 17.0, 10.0, 42.829, 305.0, 9.9e+37, 2023.0, 8.0, 28.0, 17.0, 10.0, 42.896, 306.0, -9.9e+37, 2023.0, 8.0, 28.0, 17.0, 10.0, 42.964, 307.0, 9.9e+37, 2023.0, 8.0, 28.0, 17.0, 10.0, 43.031, 308.0]\n"
     ]
    }
   ],
   "source": [
    "a = [ 2.7580e+01, 2.0230e+03  ,8.0000e+00  ,2.8000e+01  ,1.7000e+01 , 1.0000e+01,\n",
    "  4.2829e+01,  3.0500e+02 , 9.9000e+37 , 2.0230e+03,  8.0000e+00 , 2.8000e+01,\n",
    "  1.7000e+01,  1.0000e+01 , 4.2896e+01 , 3.0600e+02 ,-9.9000e+37 , 2.0230e+03,\n",
    "  8.0000e+00,  2.8000e+01,  1.7000e+01 , 1.0000e+01  ,4.2964e+01 , 3.0700e+02,\n",
    "  9.9000e+37,  2.0230e+03 , 8.0000e+00 , 2.8000e+01 , 1.7000e+01 , 1.0000e+01,\n",
    "  4.3031e+01,  3.0800e+02]\n",
    "\n",
    "print((a))"
   ]
  },
  {
   "cell_type": "code",
   "execution_count": 23,
   "metadata": {},
   "outputs": [
    {
     "name": "stdout",
     "output_type": "stream",
     "text": [
      "[305, 306]\n"
     ]
    }
   ],
   "source": [
    "dic = {'温度': [\n",
    "    {'channel': 305, 'unit': 'C', 'data': [], 'time': []},{'channel': 306, 'unit': 'C', 'data': [], 'time': []}\n",
    "    ]\n",
    "    }\n",
    "# 获取所有的通道号，尽量避免循环 \n",
    "channelList = []\n",
    "for k,v in dic.items():\n",
    "    for i in range(len(v)):\n",
    "        channelList.append(v[i]['channel'])\n",
    "\n",
    "print(channelList)"
   ]
  },
  {
   "cell_type": "code",
   "execution_count": 37,
   "metadata": {},
   "outputs": [
    {
     "name": "stdout",
     "output_type": "stream",
     "text": [
      "{'data': [], 'time': [], 'maxValue': 0, 'minValue': 0, 'transPara': None}\n"
     ]
    }
   ],
   "source": [
    "transPara = None\n",
    "\n",
    "channelListDict = {\n",
    "    'data':[],\n",
    "    'time':[],\n",
    "    'maxValue':0,\n",
    "    'minValue':0,\n",
    "    'transPara':transPara\n",
    ",\n",
    "}\n",
    "\n",
    "print(channelListDict)\n",
    "if channelListDict['transPara']:\n",
    "    print(0)"
   ]
  },
  {
   "cell_type": "markdown",
   "metadata": {},
   "source": [
    "这个程序使用了正则表达式来匹配合法的格式，它是一种用于描述字符串模式的语言。这个正则表达式的含义是：\n",
    "\n",
    "^ 表示字符串的开始\n",
    "(\\d+) 表示一个或多个数字，用括号括起来表示一个捕获组\n",
    "(,\\d+)* 表示零个或多个逗号后跟一个或多个数字，用括号括起来表示一个捕获组，并用星号表示重复零次或多次\n",
    "(:\\d+)? 表示可选的冒号后跟一个或多个数字，用括号括起来表示一个捕获组，并用问号表示重复零次或一次\n",
    "$ 表示字符串的结束"
   ]
  },
  {
   "cell_type": "code",
   "execution_count": 68,
   "metadata": {},
   "outputs": [
    {
     "name": "stdout",
     "output_type": "stream",
     "text": [
      "True\n"
     ]
    }
   ],
   "source": [
    "import re\n",
    "\n",
    "def validate_input(input_str):\n",
    "    # 检验输入值的格式是否合法\n",
    "    # 合法的格式是形如\"301,302,305:308\"的字符串，每一个数字之间使用半角,或者:进行区分, 数字位数为3位, 首位数字为1-3, 后两位数字不超过23\n",
    "    # 冒号连接的两个数字首位必须一致\n",
    "    # 不合法的格式是形如\"301，302\"或\"23,26\"的字符串，使用全角或者没有使用:\n",
    "    # 使用正则表达式来匹配合法的格式\n",
    "    # 返回True或False\n",
    "    pattern = r'^[1-3][0-9][0-9]([,|:][1-3][0-9][0-9])*$'\n",
    "    return re.match(pattern, input_str) is not None\n",
    "\n",
    "print(validate_input('301,302,305,308'))"
   ]
  },
  {
   "cell_type": "code",
   "execution_count": 10,
   "metadata": {},
   "outputs": [
    {
     "name": "stdout",
     "output_type": "stream",
     "text": [
      "hell-o\n"
     ]
    }
   ],
   "source": [
    "s = 'hell-o'\n",
    "print(s.split(',')[0])"
   ]
  },
  {
   "cell_type": "code",
   "execution_count": 7,
   "metadata": {},
   "outputs": [
    {
     "ename": "AttributeError",
     "evalue": "'TemperatureConfig' object has no attribute 'channelList'",
     "output_type": "error",
     "traceback": [
      "\u001b[1;31m---------------------------------------------------------------------------\u001b[0m",
      "\u001b[1;31mAttributeError\u001b[0m                            Traceback (most recent call last)",
      "Cell \u001b[1;32mIn[7], line 81\u001b[0m\n\u001b[0;32m     77\u001b[0m             \u001b[39mreturn\u001b[39;00m \u001b[39mf\u001b[39m\u001b[39m\"\u001b[39m\u001b[39m配置文件加载失败\u001b[39m\u001b[39m{\u001b[39;00me\u001b[39m}\u001b[39;00m\u001b[39m\"\u001b[39m\n\u001b[0;32m     79\u001b[0m conf \u001b[39m=\u001b[39m ConfigImport(\u001b[39mr\u001b[39m\u001b[39m'\u001b[39m\u001b[39mapp/config/instConfig.ini\u001b[39m\u001b[39m'\u001b[39m)\n\u001b[1;32m---> 81\u001b[0m \u001b[39mprint\u001b[39m(conf\u001b[39m.\u001b[39;49mtemperatureConfig\u001b[39m.\u001b[39;49mchannelList)\n",
      "\u001b[1;31mAttributeError\u001b[0m: 'TemperatureConfig' object has no attribute 'channelList'"
     ]
    }
   ],
   "source": [
    "import configparser\n",
    "import os\n",
    "\n",
    "from loguru import logger\n",
    "\n",
    "\n",
    "# class ConfigImport():\n",
    "    \n",
    "#     def __init__(self, flieName):\n",
    "#         self.fileName = flieName\n",
    "#         self.config = configparser.ConfigParser()\n",
    "#         self.config.read(self.fileName, encoding='utf-8')\n",
    "#         self.__initConfig()\n",
    "        \n",
    "#         ...\n",
    "#     def parseConfig(self):\n",
    "#         self.config.read(self.fileName, encoding='utf-8')\n",
    "#         return self.__initConfig()\n",
    "#         ...\n",
    "\n",
    "class TemperatureConfig():\n",
    "    probeType: str\n",
    "    sensoType: str\n",
    "    channelList: str\n",
    "    temperatureUnit: str\n",
    "\n",
    "\n",
    "class CurrentConfig():\n",
    "    currType: str\n",
    "    currRange: str\n",
    "    channelList: str\n",
    "\n",
    "\n",
    "class VotageConfig():\n",
    "    ...\n",
    "\n",
    "\n",
    "class CalculatedConfig():\n",
    "    currType: str\n",
    "    currRange: str\n",
    "    channelList: str\n",
    "    measureType: str\n",
    "    measureUnits: str\n",
    "    currRangeMin: float\n",
    "    currRangeMax: float\n",
    "    mesureRangeMin: float\n",
    "    mesureRangeMax: float\n",
    "\n",
    "\n",
    "\n",
    "class ConfigImport():\n",
    "    configParseList = ['Temperature', 'Current', 'Votage', 'Calculated']\n",
    "    temperatureConfig = TemperatureConfig()\n",
    "    currentConfig = CurrentConfig()\n",
    "    votageConfig = VotageConfig()\n",
    "    calculatedConfig = CalculatedConfig()\n",
    "\n",
    "    def __init__(self,fileName):\n",
    "        self.fileName = fileName\n",
    "        self.load_config()\n",
    "\n",
    "    def load_config(self) -> None:\n",
    "        if not os.path.exists(self.fileName):\n",
    "            return '配置文件不存在'\n",
    "        try:\n",
    "            conf = configparser.RawConfigParser()\n",
    "            conf.read(self.fileName,encoding=\"utf-8\")\n",
    "            sections = conf.sections()\n",
    "            for section in sections:\n",
    "                items = conf.items(section)\n",
    "                for item in items:\n",
    "                    if section in self.configParseList:\n",
    "                        parse = eval('self.{}Config'.format(section))\n",
    "                        setattr(parse, item[0], eval(item[1]))\n",
    "            return(\"配置文件加载成功\")\n",
    "        except Exception as e:\n",
    "            return f\"配置文件加载失败{e}\"\n",
    "\n",
    "conf = ConfigImport(r'app/config/instConfig.ini')\n",
    "\n",
    "print(conf.temperatureConfig.channelList)\n"
   ]
  }
 ],
 "metadata": {
  "kernelspec": {
   "display_name": "Python 3",
   "language": "python",
   "name": "python3"
  },
  "language_info": {
   "codemirror_mode": {
    "name": "ipython",
    "version": 3
   },
   "file_extension": ".py",
   "mimetype": "text/x-python",
   "name": "python",
   "nbconvert_exporter": "python",
   "pygments_lexer": "ipython3",
   "version": "3.8.8rc1"
  },
  "orig_nbformat": 4
 },
 "nbformat": 4,
 "nbformat_minor": 2
}
